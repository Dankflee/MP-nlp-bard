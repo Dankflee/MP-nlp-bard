{
 "cells": [
  {
   "cell_type": "code",
   "execution_count": 1,
   "metadata": {},
   "outputs": [
    {
     "name": "stderr",
     "output_type": "stream",
     "text": [
      "[nltk_data] Downloading package punkt to\n",
      "[nltk_data]     /Users/shreyaspandey/nltk_data...\n",
      "[nltk_data]   Package punkt is already up-to-date!\n",
      "[nltk_data] Downloading package wordnet to\n",
      "[nltk_data]     /Users/shreyaspandey/nltk_data...\n",
      "[nltk_data]   Package wordnet is already up-to-date!\n"
     ]
    }
   ],
   "source": [
    "import nltk \n",
    "import os\n",
    "import io\n",
    "import numpy\n",
    "import random\n",
    "import string\n",
    "nltk.download('punkt')\n",
    "nltk.download('wordnet')\n",
    "from sklearn.feature_extraction.text import TfidfVectorizer\n",
    "from sklearn.metrics.pairwise import cosine_similarity"
   ]
  },
  {
   "cell_type": "code",
   "execution_count": 2,
   "metadata": {},
   "outputs": [],
   "source": [
    "\n",
    "\n",
    "\n",
    "File_Path = \"Data/chatbot.txt\"\n",
    "\n",
    "# Open the file in read mode, ignoring encoding errors\n",
    "try:\n",
    "  with io.open(File_Path, \"r\", errors=\"ignore\") as Flile_Open:\n",
    "# Read\n",
    "    Raw_Data = Flile_Open.read()\n",
    "# lowercase\n",
    "    Raw_Data = Raw_Data.lower()  \n",
    "except FileNotFoundError:\n",
    "  print(\"Error: File not found.\")\n"
   ]
  },
  {
   "cell_type": "code",
   "execution_count": 3,
   "metadata": {},
   "outputs": [
    {
     "data": {
      "text/plain": [
       "[['crisis, whether a personal upheaval or a widespread disaster, can feel like a tidal wave threatening to engulf us.',\n",
       "  'however, with preparation and effective response strategies, we can not only weather the storm but emerge stronger and more resilient.'],\n",
       " ['crisis', ',']]"
      ]
     },
     "execution_count": 3,
     "metadata": {},
     "output_type": "execute_result"
    }
   ],
   "source": [
    "sentence_tokens = nltk.sent_tokenize(Raw_Data)\n",
    "word_tokens = nltk.word_tokenize(Raw_Data)\n",
    "\n",
    "[sentence_tokens[:2], word_tokens[:2]]"
   ]
  },
  {
   "cell_type": "code",
   "execution_count": 4,
   "metadata": {},
   "outputs": [],
   "source": [
    "lemmer = nltk.stem.WordNetLemmatizer()\n",
    "\n",
    "remove_punct_dict = dict((ord(punct), None) for punct in string.punctuation)\n",
    "\n",
    "def lem_tokens(tokens):\n",
    "    return [lemmer.lemmatize(token) for token in tokens]\n",
    "\n",
    "def lem_normalize(text):\n",
    "    return lem_tokens(nltk.word_tokenize(text.lower().translate(remove_punct_dict)))"
   ]
  },
  {
   "cell_type": "code",
   "execution_count": 5,
   "metadata": {},
   "outputs": [],
   "source": [
    "GREETING_INPUTS = ('hello', 'hi', 'greetings', 'sup', 'what\\'s up', 'hey',)\n",
    "GREETING_RESPONSES = ['hi', 'hey', '*nods*', 'hi there', 'hello', 'I am glad! You are talking to me']\n",
    "\n",
    "def greeting(sentence):\n",
    "    for word in sentence.split():\n",
    "        if word.lower() in GREETING_INPUTS:\n",
    "            return random.choice(GREETING_RESPONSES)"
   ]
  },
  {
   "cell_type": "code",
   "execution_count": 6,
   "metadata": {},
   "outputs": [],
   "source": [
    "def response(user_response):\n",
    "    robo_response = ''\n",
    "    sentence_tokens.append(user_response)\n",
    "    \n",
    "    vectorizer = TfidfVectorizer(tokenizer=lem_normalize, stop_words='english')\n",
    "    tfidf = vectorizer.fit_transform(sentence_tokens)\n",
    "    \n",
    "    values = cosine_similarity(tfidf[-1], tfidf)\n",
    "    idx = values.argsort()[0][-2]\n",
    "    flat = values.flatten()\n",
    "    flat.sort()\n",
    "    req_tfidf = flat[-2]\n",
    "    \n",
    "    if req_tfidf == 0:\n",
    "        robo_response = '{} Sorry, I don\\'t understand you'.format(robo_response)\n",
    "    else:\n",
    "        robo_response = robo_response + sentence_tokens[idx]\n",
    "    return robo_response"
   ]
  },
  {
   "cell_type": "code",
   "execution_count": 8,
   "metadata": {},
   "outputs": [
    {
     "name": "stdout",
     "output_type": "stream",
     "text": [
      "BOT: My name is Robo, I will answer your questions about chatbots. If you want to exit, type Bye\n",
      "USER: hi\n",
      "ROBO: hey\n",
      "USER: what is crisis?\n",
      "ROBO: remember, a crisis is not a monolith.\n",
      "USER: describe its design, please\n",
      "ROBO:  Sorry, I don't understand you\n",
      "USER: what about alan turing?\n",
      "ROBO:  Sorry, I don't understand you\n",
      "USER: and facebook?\n",
      "ROBO:  Sorry, I don't understand you\n",
      "USER: sounds awesome\n",
      "ROBO:  Sorry, I don't understand you\n",
      "USER: bye\n",
      "BOT: bye!\n"
     ]
    },
    {
     "name": "stderr",
     "output_type": "stream",
     "text": [
      "<>:17: SyntaxWarning: \"is not\" with a literal. Did you mean \"!=\"?\n",
      "<>:18: SyntaxWarning: \"is\" with a literal. Did you mean \"==\"?\n",
      "<>:18: SyntaxWarning: \"is\" with a literal. Did you mean \"==\"?\n",
      "<>:17: SyntaxWarning: \"is not\" with a literal. Did you mean \"!=\"?\n",
      "<>:18: SyntaxWarning: \"is\" with a literal. Did you mean \"==\"?\n",
      "<>:18: SyntaxWarning: \"is\" with a literal. Did you mean \"==\"?\n",
      "/var/folders/q6/g4kz4c6j1q96q4z4zg152v0h0000gn/T/ipykernel_18921/247843523.py:17: SyntaxWarning: \"is not\" with a literal. Did you mean \"!=\"?\n",
      "  if user_response is not 'bye':\n",
      "/var/folders/q6/g4kz4c6j1q96q4z4zg152v0h0000gn/T/ipykernel_18921/247843523.py:18: SyntaxWarning: \"is\" with a literal. Did you mean \"==\"?\n",
      "  if user_response is 'thanks' or user_response is 'thank you':\n",
      "/var/folders/q6/g4kz4c6j1q96q4z4zg152v0h0000gn/T/ipykernel_18921/247843523.py:18: SyntaxWarning: \"is\" with a literal. Did you mean \"==\"?\n",
      "  if user_response is 'thanks' or user_response is 'thank you':\n"
     ]
    }
   ],
   "source": [
    "flag = True\n",
    "print('BOT: My name is Robo, I will answer your questions about chatbots. If you want to exit, type Bye')\n",
    "\n",
    "interactions = [\n",
    "    'hi',\n",
    "    'what is crisis?',\n",
    "    'describe its design, please',\n",
    "    'what about alan turing?',\n",
    "    'and facebook?',\n",
    "    'sounds awesome',\n",
    "    'bye',\n",
    "]\n",
    "\n",
    "while flag:\n",
    "    user_response = interactions.pop(0)\n",
    "    print('USER: {}'.format(user_response))\n",
    "    if user_response is not 'bye':\n",
    "        if user_response is 'thanks' or user_response is 'thank you':\n",
    "            flag = False\n",
    "            print('BOT: You are welcome...')\n",
    "        else:\n",
    "            if greeting(user_response) is not None:\n",
    "                print('ROBO: {}'.format(greeting(user_response)))\n",
    "            else:\n",
    "                print('ROBO: ', end='')\n",
    "                print(response(user_response))\n",
    "                sentence_tokens.remove(user_response)\n",
    "    else:\n",
    "        flag = False\n",
    "        print('BOT: bye!')"
   ]
  },
  {
   "cell_type": "code",
   "execution_count": null,
   "metadata": {},
   "outputs": [],
   "source": []
  },
  {
   "cell_type": "code",
   "execution_count": null,
   "metadata": {},
   "outputs": [],
   "source": []
  }
 ],
 "metadata": {
  "kernelspec": {
   "display_name": "nlp",
   "language": "python",
   "name": "python3"
  },
  "language_info": {
   "codemirror_mode": {
    "name": "ipython",
    "version": 3
   },
   "file_extension": ".py",
   "mimetype": "text/x-python",
   "name": "python",
   "nbconvert_exporter": "python",
   "pygments_lexer": "ipython3",
   "version": "3.11.7"
  }
 },
 "nbformat": 4,
 "nbformat_minor": 2
}
